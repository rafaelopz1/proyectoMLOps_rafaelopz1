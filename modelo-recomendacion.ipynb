{
 "cells": [
  {
   "cell_type": "markdown",
   "id": "f24d6f09",
   "metadata": {},
   "source": [
    "# Modelo de recomendación item-item"
   ]
  },
  {
   "cell_type": "markdown",
   "id": "f07b2574",
   "metadata": {},
   "source": [
    "Librerias necesarias para el modelo de recomendación"
   ]
  },
  {
   "cell_type": "code",
   "execution_count": 12,
   "id": "e1b7c73d",
   "metadata": {},
   "outputs": [],
   "source": [
    "import pandas as pd\n",
    "from sklearn.metrics.pairwise import cosine_similarity\n",
    "from sklearn.feature_extraction.text import CountVectorizer"
   ]
  },
  {
   "cell_type": "markdown",
   "id": "9e120219",
   "metadata": {},
   "source": [
    "Carga de archivo"
   ]
  },
  {
   "cell_type": "code",
   "execution_count": 13,
   "id": "bc81b7df",
   "metadata": {},
   "outputs": [],
   "source": [
    "# Cargar el conjunto de datos\n",
    "df_games = pd.read_parquet('./data/steam_games_ml.parquet')"
   ]
  },
  {
   "cell_type": "markdown",
   "id": "b4de27a1",
   "metadata": {},
   "source": [
    "Tratamiendo de datos"
   ]
  },
  {
   "cell_type": "code",
   "execution_count": 14,
   "id": "5c5ee28f",
   "metadata": {},
   "outputs": [],
   "source": [
    "# Seleccionar las columnas necesarias\n",
    "df_modelo = df_games.loc[:, [\"specs\", \"item_id\", \"name\"]]\n",
    "\n",
    "# Convertir 'item_id' a tipo entero\n",
    "df_modelo[\"item_id\"] = df_modelo[\"item_id\"].astype(int)\n",
    "\n",
    "# Limpiar la columna 'specs'\n",
    "df_modelo['specs'] = df_modelo['specs'].apply(lambda x: str(x).replace('[', '').replace(']', '').replace(\"'\", ''))"
   ]
  },
  {
   "cell_type": "markdown",
   "id": "ce03c779",
   "metadata": {},
   "source": [
    "### Modelo"
   ]
  },
  {
   "cell_type": "markdown",
   "id": "4d1bd648",
   "metadata": {},
   "source": [
    "Creación de un Vectorizador de Texto (CountVectorizer):\n",
    "\n",
    "Propósito: Convertir texto (en este caso, la columna 'specs') en vectores numéricos.\n",
    "\n",
    "Proceso: El vectorizador asigna un número a cada palabra única presente en el texto y cuenta su frecuencia. Cada documento (en este caso, cada juego) se representa como un vector donde cada posición corresponde a la frecuencia de una palabra.\n",
    "\n",
    "Importancia: Esta representación vectorial es necesaria para calcular la similitud del coseno, ya que este método trabaja con vectores numéricos."
   ]
  },
  {
   "cell_type": "code",
   "execution_count": 15,
   "id": "5d7d5fb8",
   "metadata": {},
   "outputs": [],
   "source": [
    "# Crear un vectorizador de texto\n",
    "cv = CountVectorizer()\n",
    "vectores = cv.fit_transform(df_modelo['specs']).toarray()"
   ]
  },
  {
   "cell_type": "markdown",
   "id": "66a423e5",
   "metadata": {},
   "source": [
    "Cálculo de la Similitud del Coseno entre Vectores:\n",
    "\n",
    "Propósito: Evaluar la similitud entre los vectores numéricos de diferentes juegos.\n",
    "\n",
    "Proceso: Se utiliza la métrica de similitud del coseno, que mide el coseno del ángulo entre dos vectores. Cuanto más cercano a 1, más similares son los vectores.\n",
    "\n",
    "Importancia: La similitud del coseno es clave para determinar qué tan parecidos son los juegos entre sí. Esto se utiliza para generar recomendaciones, ya que los juegos con vectores similares son considerados como recomendaciones potenciales."
   ]
  },
  {
   "cell_type": "code",
   "execution_count": 16,
   "id": "8b9d2082",
   "metadata": {},
   "outputs": [],
   "source": [
    "# Calcular la similitud del coseno entre vectores\n",
    "similitud_coseno = cosine_similarity(vectores)"
   ]
  },
  {
   "cell_type": "markdown",
   "id": "116b5b8a",
   "metadata": {},
   "source": [
    "A continuación, se genera una función (recomendacion) que toma como entrada el ID de un juego y devuelve una lista de los cinco juegos más recomendados basándose en la similitud del coseno entre vectores.La función devuelve la lista de títulos recomendados."
   ]
  },
  {
   "cell_type": "code",
   "execution_count": 17,
   "id": "5f16a8f1",
   "metadata": {},
   "outputs": [],
   "source": [
    "# Generar una función para obtener recomendaciones por título\n",
    "def recomendacion(juego):\n",
    "    #Se busca el índice del juego en el DataFrame original (df).\n",
    "    indice_juego = df_modelo[df_modelo[\"item_id\"] == juego].index[0]\n",
    "    \n",
    "    #Cálculo de Similitudes: Se obtienen las distancias de similitud entre el juego de entrada y todos los demás juegos en el conjunto de datos. \n",
    "    distancias = similitud_coseno[indice_juego]\n",
    "    \n",
    "    #Se seleccionan los cinco juegos más similares (excluyendo el juego de entrada)\n",
    "    lista_juegos = sorted(list(enumerate(distancias)), reverse=True, key=lambda x: x[1])[1:6]\n",
    "    \n",
    "    #Salida. Se genera un string con los títulos de los juegos recomendados.\n",
    "    recomendaciones = \", \".join([df_modelo.iloc[i[0]]['name'] for i in lista_juegos])\n",
    "    \n",
    "    return recomendaciones"
   ]
  },
  {
   "cell_type": "code",
   "execution_count": 18,
   "id": "63cd146c",
   "metadata": {},
   "outputs": [],
   "source": [
    "# Aplicar la función a la columna 'item_id' y crear una nueva columna 'Recomendaciones'\n",
    "df_modelo['Recomendaciones'] = df_modelo['item_id'].apply(recomendacion)"
   ]
  },
  {
   "cell_type": "code",
   "execution_count": 19,
   "id": "ffa74882",
   "metadata": {},
   "outputs": [
    {
     "data": {
      "text/html": [
       "<div>\n",
       "<style scoped>\n",
       "    .dataframe tbody tr th:only-of-type {\n",
       "        vertical-align: middle;\n",
       "    }\n",
       "\n",
       "    .dataframe tbody tr th {\n",
       "        vertical-align: top;\n",
       "    }\n",
       "\n",
       "    .dataframe thead th {\n",
       "        text-align: right;\n",
       "    }\n",
       "</style>\n",
       "<table border=\"1\" class=\"dataframe\">\n",
       "  <thead>\n",
       "    <tr style=\"text-align: right;\">\n",
       "      <th></th>\n",
       "      <th>item_id</th>\n",
       "      <th>Recomendaciones</th>\n",
       "    </tr>\n",
       "  </thead>\n",
       "  <tbody>\n",
       "    <tr>\n",
       "      <th>0</th>\n",
       "      <td>761140</td>\n",
       "      <td>弹炸人2222, Uncanny Islands, Beach Rules, Planeta...</td>\n",
       "    </tr>\n",
       "    <tr>\n",
       "      <th>1</th>\n",
       "      <td>643980</td>\n",
       "      <td>Duelyst, Warhammer 40,000: Regicide, KROSMAGA,...</td>\n",
       "    </tr>\n",
       "    <tr>\n",
       "      <th>2</th>\n",
       "      <td>670290</td>\n",
       "      <td>Heroes of Havoc: Idle Adventures, Tactical Mon...</td>\n",
       "    </tr>\n",
       "    <tr>\n",
       "      <th>3</th>\n",
       "      <td>767400</td>\n",
       "      <td>弹炸人2222, Uncanny Islands, Beach Rules, Planeta...</td>\n",
       "    </tr>\n",
       "    <tr>\n",
       "      <th>4</th>\n",
       "      <td>773570</td>\n",
       "      <td>Jam Session VR, The Trace, Caretaker Retributi...</td>\n",
       "    </tr>\n",
       "    <tr>\n",
       "      <th>...</th>\n",
       "      <td>...</td>\n",
       "      <td>...</td>\n",
       "    </tr>\n",
       "    <tr>\n",
       "      <th>32128</th>\n",
       "      <td>773640</td>\n",
       "      <td>Army of Tentacles: (Not) A Cthulhu Dating Sim:...</td>\n",
       "    </tr>\n",
       "    <tr>\n",
       "      <th>32129</th>\n",
       "      <td>733530</td>\n",
       "      <td>Runespell: Overture, Rush for Glory, BoomTown!...</td>\n",
       "    </tr>\n",
       "    <tr>\n",
       "      <th>32130</th>\n",
       "      <td>610660</td>\n",
       "      <td>Drawn®: The Painted Tower, Tropico 4, The Bind...</td>\n",
       "    </tr>\n",
       "    <tr>\n",
       "      <th>32131</th>\n",
       "      <td>658870</td>\n",
       "      <td>Fate of the World, Fate of the World: Tipping ...</td>\n",
       "    </tr>\n",
       "    <tr>\n",
       "      <th>32132</th>\n",
       "      <td>681550</td>\n",
       "      <td>Maze Run VR, CyberThreat, Super Pixel Smash, W...</td>\n",
       "    </tr>\n",
       "  </tbody>\n",
       "</table>\n",
       "<p>32133 rows × 2 columns</p>\n",
       "</div>"
      ],
      "text/plain": [
       "       item_id                                    Recomendaciones\n",
       "0       761140  弹炸人2222, Uncanny Islands, Beach Rules, Planeta...\n",
       "1       643980  Duelyst, Warhammer 40,000: Regicide, KROSMAGA,...\n",
       "2       670290  Heroes of Havoc: Idle Adventures, Tactical Mon...\n",
       "3       767400  弹炸人2222, Uncanny Islands, Beach Rules, Planeta...\n",
       "4       773570  Jam Session VR, The Trace, Caretaker Retributi...\n",
       "...        ...                                                ...\n",
       "32128   773640  Army of Tentacles: (Not) A Cthulhu Dating Sim:...\n",
       "32129   733530  Runespell: Overture, Rush for Glory, BoomTown!...\n",
       "32130   610660  Drawn®: The Painted Tower, Tropico 4, The Bind...\n",
       "32131   658870  Fate of the World, Fate of the World: Tipping ...\n",
       "32132   681550  Maze Run VR, CyberThreat, Super Pixel Smash, W...\n",
       "\n",
       "[32133 rows x 2 columns]"
      ]
     },
     "execution_count": 19,
     "metadata": {},
     "output_type": "execute_result"
    }
   ],
   "source": [
    "# Eliminar columnas innecesarias para disminuir el tamaño del archivo de salida\n",
    "df_modelo.drop(columns=['name', 'specs'], inplace=True)\n",
    "df_modelo"
   ]
  },
  {
   "cell_type": "code",
   "execution_count": 20,
   "id": "a335437a",
   "metadata": {},
   "outputs": [
    {
     "name": "stdout",
     "output_type": "stream",
     "text": [
      "<class 'pandas.core.frame.DataFrame'>\n",
      "RangeIndex: 32133 entries, 0 to 32132\n",
      "Data columns (total 2 columns):\n",
      " #   Column           Non-Null Count  Dtype \n",
      "---  ------           --------------  ----- \n",
      " 0   item_id          32133 non-null  int32 \n",
      " 1   Recomendaciones  32133 non-null  object\n",
      "dtypes: int32(1), object(1)\n",
      "memory usage: 376.7+ KB\n"
     ]
    }
   ],
   "source": [
    "df_modelo.info()"
   ]
  },
  {
   "cell_type": "code",
   "execution_count": 21,
   "id": "9801298b",
   "metadata": {},
   "outputs": [],
   "source": [
    "# Guardar el DataFrame resultante en un nuevo archivo CSV\n",
    "df_modelo.to_parquet('./data/modelo_recomendacion.parquet', index=False)"
   ]
  }
 ],
 "metadata": {
  "kernelspec": {
   "display_name": "Python 3 (ipykernel)",
   "language": "python",
   "name": "python3"
  },
  "language_info": {
   "codemirror_mode": {
    "name": "ipython",
    "version": 3
   },
   "file_extension": ".py",
   "mimetype": "text/x-python",
   "name": "python",
   "nbconvert_exporter": "python",
   "pygments_lexer": "ipython3",
   "version": "3.11.7"
  }
 },
 "nbformat": 4,
 "nbformat_minor": 5
}
